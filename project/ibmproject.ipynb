{
  "nbformat": 4,
  "nbformat_minor": 0,
  "metadata": {
    "colab": {
      "provenance": [],
      "collapsed_sections": []
    },
    "kernelspec": {
      "name": "python3",
      "display_name": "Python 3"
    },
    "language_info": {
      "name": "python"
    }
  },
  "cells": [
    {
      "cell_type": "code",
      "execution_count": 1,
      "metadata": {
        "id": "jtmYVQM2MnQo"
      },
      "outputs": [],
      "source": [
        "import pandas as pd\n",
        "import numpy as np\n",
        "import matplotlib.pyplot as plt\n",
        "import datetime\n",
        "import plotly.express as px "
      ]
    },
    {
      "cell_type": "code",
      "source": [
        "import shutil"
      ],
      "metadata": {
        "id": "JpMsVXPfOCdy"
      },
      "execution_count": 2,
      "outputs": []
    },
    {
      "cell_type": "code",
      "source": [
        "shutil.unpack_archive(\n",
        "    \"/content/drive/MyDrive/Data Car Resale Value Prediction (3).zip\", \n",
        "    extract_dir=\".\"\n",
        "    )"
      ],
      "metadata": {
        "id": "Jd0eh8gTOEAR"
      },
      "execution_count": 3,
      "outputs": []
    },
    {
      "cell_type": "code",
      "source": [
        "data = pd.read_csv(\n",
        "    \"Data/autos.csv\", encoding=\"Latin\"\n",
        ")"
      ],
      "metadata": {
        "id": "MwIdmk9qNnKv"
      },
      "execution_count": 4,
      "outputs": []
    },
    {
      "cell_type": "code",
      "source": [],
      "metadata": {
        "id": "OaPvw59GnZ-M"
      },
      "execution_count": 40,
      "outputs": []
    },
    {
      "cell_type": "code",
      "source": [],
      "metadata": {
        "id": "b1DIyBfXnvfe"
      },
      "execution_count": null,
      "outputs": []
    },
    {
      "cell_type": "code",
      "source": [
        "Xdata.head()"
      ],
      "metadata": {
        "colab": {
          "base_uri": "https://localhost:8080/",
          "height": 444
        },
        "id": "X7V8POMaNpwz",
        "outputId": "7d6a562b-9d25-4fba-8b58-24925e1cb611"
      },
      "execution_count": 5,
      "outputs": [
        {
          "output_type": "execute_result",
          "data": {
            "text/plain": [
              "           dateCrawled                            name  seller offerType  \\\n",
              "0  2016-03-24 11:52:17                      Golf_3_1.6  privat   Angebot   \n",
              "1  2016-03-24 10:58:45            A5_Sportback_2.7_Tdi  privat   Angebot   \n",
              "2  2016-03-14 12:52:21  Jeep_Grand_Cherokee_\"Overland\"  privat   Angebot   \n",
              "3  2016-03-17 16:54:04              GOLF_4_1_4__3TÜRER  privat   Angebot   \n",
              "4  2016-03-31 17:25:20  Skoda_Fabia_1.4_TDI_PD_Classic  privat   Angebot   \n",
              "\n",
              "   price abtest vehicleType  yearOfRegistration    gearbox  powerPS  model  \\\n",
              "0    480   test         NaN                1993    manuell        0   golf   \n",
              "1  18300   test       coupe                2011    manuell      190    NaN   \n",
              "2   9800   test         suv                2004  automatik      163  grand   \n",
              "3   1500   test  kleinwagen                2001    manuell       75   golf   \n",
              "4   3600   test  kleinwagen                2008    manuell       69  fabia   \n",
              "\n",
              "   kilometer  monthOfRegistration fuelType       brand notRepairedDamage  \\\n",
              "0     150000                    0   benzin  volkswagen               NaN   \n",
              "1     125000                    5   diesel        audi                ja   \n",
              "2     125000                    8   diesel        jeep               NaN   \n",
              "3     150000                    6   benzin  volkswagen              nein   \n",
              "4      90000                    7   diesel       skoda              nein   \n",
              "\n",
              "           dateCreated  nrOfPictures  postalCode             lastSeen  \n",
              "0  2016-03-24 00:00:00             0       70435  2016-04-07 03:16:57  \n",
              "1  2016-03-24 00:00:00             0       66954  2016-04-07 01:46:50  \n",
              "2  2016-03-14 00:00:00             0       90480  2016-04-05 12:47:46  \n",
              "3  2016-03-17 00:00:00             0       91074  2016-03-17 17:40:17  \n",
              "4  2016-03-31 00:00:00             0       60437  2016-04-06 10:17:21  "
            ],
            "text/html": [
              "\n",
              "  <div id=\"df-e71b5bb1-c254-4357-a35d-c904abd5923a\">\n",
              "    <div class=\"colab-df-container\">\n",
              "      <div>\n",
              "<style scoped>\n",
              "    .dataframe tbody tr th:only-of-type {\n",
              "        vertical-align: middle;\n",
              "    }\n",
              "\n",
              "    .dataframe tbody tr th {\n",
              "        vertical-align: top;\n",
              "    }\n",
              "\n",
              "    .dataframe thead th {\n",
              "        text-align: right;\n",
              "    }\n",
              "</style>\n",
              "<table border=\"1\" class=\"dataframe\">\n",
              "  <thead>\n",
              "    <tr style=\"text-align: right;\">\n",
              "      <th></th>\n",
              "      <th>dateCrawled</th>\n",
              "      <th>name</th>\n",
              "      <th>seller</th>\n",
              "      <th>offerType</th>\n",
              "      <th>price</th>\n",
              "      <th>abtest</th>\n",
              "      <th>vehicleType</th>\n",
              "      <th>yearOfRegistration</th>\n",
              "      <th>gearbox</th>\n",
              "      <th>powerPS</th>\n",
              "      <th>model</th>\n",
              "      <th>kilometer</th>\n",
              "      <th>monthOfRegistration</th>\n",
              "      <th>fuelType</th>\n",
              "      <th>brand</th>\n",
              "      <th>notRepairedDamage</th>\n",
              "      <th>dateCreated</th>\n",
              "      <th>nrOfPictures</th>\n",
              "      <th>postalCode</th>\n",
              "      <th>lastSeen</th>\n",
              "    </tr>\n",
              "  </thead>\n",
              "  <tbody>\n",
              "    <tr>\n",
              "      <th>0</th>\n",
              "      <td>2016-03-24 11:52:17</td>\n",
              "      <td>Golf_3_1.6</td>\n",
              "      <td>privat</td>\n",
              "      <td>Angebot</td>\n",
              "      <td>480</td>\n",
              "      <td>test</td>\n",
              "      <td>NaN</td>\n",
              "      <td>1993</td>\n",
              "      <td>manuell</td>\n",
              "      <td>0</td>\n",
              "      <td>golf</td>\n",
              "      <td>150000</td>\n",
              "      <td>0</td>\n",
              "      <td>benzin</td>\n",
              "      <td>volkswagen</td>\n",
              "      <td>NaN</td>\n",
              "      <td>2016-03-24 00:00:00</td>\n",
              "      <td>0</td>\n",
              "      <td>70435</td>\n",
              "      <td>2016-04-07 03:16:57</td>\n",
              "    </tr>\n",
              "    <tr>\n",
              "      <th>1</th>\n",
              "      <td>2016-03-24 10:58:45</td>\n",
              "      <td>A5_Sportback_2.7_Tdi</td>\n",
              "      <td>privat</td>\n",
              "      <td>Angebot</td>\n",
              "      <td>18300</td>\n",
              "      <td>test</td>\n",
              "      <td>coupe</td>\n",
              "      <td>2011</td>\n",
              "      <td>manuell</td>\n",
              "      <td>190</td>\n",
              "      <td>NaN</td>\n",
              "      <td>125000</td>\n",
              "      <td>5</td>\n",
              "      <td>diesel</td>\n",
              "      <td>audi</td>\n",
              "      <td>ja</td>\n",
              "      <td>2016-03-24 00:00:00</td>\n",
              "      <td>0</td>\n",
              "      <td>66954</td>\n",
              "      <td>2016-04-07 01:46:50</td>\n",
              "    </tr>\n",
              "    <tr>\n",
              "      <th>2</th>\n",
              "      <td>2016-03-14 12:52:21</td>\n",
              "      <td>Jeep_Grand_Cherokee_\"Overland\"</td>\n",
              "      <td>privat</td>\n",
              "      <td>Angebot</td>\n",
              "      <td>9800</td>\n",
              "      <td>test</td>\n",
              "      <td>suv</td>\n",
              "      <td>2004</td>\n",
              "      <td>automatik</td>\n",
              "      <td>163</td>\n",
              "      <td>grand</td>\n",
              "      <td>125000</td>\n",
              "      <td>8</td>\n",
              "      <td>diesel</td>\n",
              "      <td>jeep</td>\n",
              "      <td>NaN</td>\n",
              "      <td>2016-03-14 00:00:00</td>\n",
              "      <td>0</td>\n",
              "      <td>90480</td>\n",
              "      <td>2016-04-05 12:47:46</td>\n",
              "    </tr>\n",
              "    <tr>\n",
              "      <th>3</th>\n",
              "      <td>2016-03-17 16:54:04</td>\n",
              "      <td>GOLF_4_1_4__3TÜRER</td>\n",
              "      <td>privat</td>\n",
              "      <td>Angebot</td>\n",
              "      <td>1500</td>\n",
              "      <td>test</td>\n",
              "      <td>kleinwagen</td>\n",
              "      <td>2001</td>\n",
              "      <td>manuell</td>\n",
              "      <td>75</td>\n",
              "      <td>golf</td>\n",
              "      <td>150000</td>\n",
              "      <td>6</td>\n",
              "      <td>benzin</td>\n",
              "      <td>volkswagen</td>\n",
              "      <td>nein</td>\n",
              "      <td>2016-03-17 00:00:00</td>\n",
              "      <td>0</td>\n",
              "      <td>91074</td>\n",
              "      <td>2016-03-17 17:40:17</td>\n",
              "    </tr>\n",
              "    <tr>\n",
              "      <th>4</th>\n",
              "      <td>2016-03-31 17:25:20</td>\n",
              "      <td>Skoda_Fabia_1.4_TDI_PD_Classic</td>\n",
              "      <td>privat</td>\n",
              "      <td>Angebot</td>\n",
              "      <td>3600</td>\n",
              "      <td>test</td>\n",
              "      <td>kleinwagen</td>\n",
              "      <td>2008</td>\n",
              "      <td>manuell</td>\n",
              "      <td>69</td>\n",
              "      <td>fabia</td>\n",
              "      <td>90000</td>\n",
              "      <td>7</td>\n",
              "      <td>diesel</td>\n",
              "      <td>skoda</td>\n",
              "      <td>nein</td>\n",
              "      <td>2016-03-31 00:00:00</td>\n",
              "      <td>0</td>\n",
              "      <td>60437</td>\n",
              "      <td>2016-04-06 10:17:21</td>\n",
              "    </tr>\n",
              "  </tbody>\n",
              "</table>\n",
              "</div>\n",
              "      <button class=\"colab-df-convert\" onclick=\"convertToInteractive('df-e71b5bb1-c254-4357-a35d-c904abd5923a')\"\n",
              "              title=\"Convert this dataframe to an interactive table.\"\n",
              "              style=\"display:none;\">\n",
              "        \n",
              "  <svg xmlns=\"http://www.w3.org/2000/svg\" height=\"24px\"viewBox=\"0 0 24 24\"\n",
              "       width=\"24px\">\n",
              "    <path d=\"M0 0h24v24H0V0z\" fill=\"none\"/>\n",
              "    <path d=\"M18.56 5.44l.94 2.06.94-2.06 2.06-.94-2.06-.94-.94-2.06-.94 2.06-2.06.94zm-11 1L8.5 8.5l.94-2.06 2.06-.94-2.06-.94L8.5 2.5l-.94 2.06-2.06.94zm10 10l.94 2.06.94-2.06 2.06-.94-2.06-.94-.94-2.06-.94 2.06-2.06.94z\"/><path d=\"M17.41 7.96l-1.37-1.37c-.4-.4-.92-.59-1.43-.59-.52 0-1.04.2-1.43.59L10.3 9.45l-7.72 7.72c-.78.78-.78 2.05 0 2.83L4 21.41c.39.39.9.59 1.41.59.51 0 1.02-.2 1.41-.59l7.78-7.78 2.81-2.81c.8-.78.8-2.07 0-2.86zM5.41 20L4 18.59l7.72-7.72 1.47 1.35L5.41 20z\"/>\n",
              "  </svg>\n",
              "      </button>\n",
              "      \n",
              "  <style>\n",
              "    .colab-df-container {\n",
              "      display:flex;\n",
              "      flex-wrap:wrap;\n",
              "      gap: 12px;\n",
              "    }\n",
              "\n",
              "    .colab-df-convert {\n",
              "      background-color: #E8F0FE;\n",
              "      border: none;\n",
              "      border-radius: 50%;\n",
              "      cursor: pointer;\n",
              "      display: none;\n",
              "      fill: #1967D2;\n",
              "      height: 32px;\n",
              "      padding: 0 0 0 0;\n",
              "      width: 32px;\n",
              "    }\n",
              "\n",
              "    .colab-df-convert:hover {\n",
              "      background-color: #E2EBFA;\n",
              "      box-shadow: 0px 1px 2px rgba(60, 64, 67, 0.3), 0px 1px 3px 1px rgba(60, 64, 67, 0.15);\n",
              "      fill: #174EA6;\n",
              "    }\n",
              "\n",
              "    [theme=dark] .colab-df-convert {\n",
              "      background-color: #3B4455;\n",
              "      fill: #D2E3FC;\n",
              "    }\n",
              "\n",
              "    [theme=dark] .colab-df-convert:hover {\n",
              "      background-color: #434B5C;\n",
              "      box-shadow: 0px 1px 3px 1px rgba(0, 0, 0, 0.15);\n",
              "      filter: drop-shadow(0px 1px 2px rgba(0, 0, 0, 0.3));\n",
              "      fill: #FFFFFF;\n",
              "    }\n",
              "  </style>\n",
              "\n",
              "      <script>\n",
              "        const buttonEl =\n",
              "          document.querySelector('#df-e71b5bb1-c254-4357-a35d-c904abd5923a button.colab-df-convert');\n",
              "        buttonEl.style.display =\n",
              "          google.colab.kernel.accessAllowed ? 'block' : 'none';\n",
              "\n",
              "        async function convertToInteractive(key) {\n",
              "          const element = document.querySelector('#df-e71b5bb1-c254-4357-a35d-c904abd5923a');\n",
              "          const dataTable =\n",
              "            await google.colab.kernel.invokeFunction('convertToInteractive',\n",
              "                                                     [key], {});\n",
              "          if (!dataTable) return;\n",
              "\n",
              "          const docLinkHtml = 'Like what you see? Visit the ' +\n",
              "            '<a target=\"_blank\" href=https://colab.research.google.com/notebooks/data_table.ipynb>data table notebook</a>'\n",
              "            + ' to learn more about interactive tables.';\n",
              "          element.innerHTML = '';\n",
              "          dataTable['output_type'] = 'display_data';\n",
              "          await google.colab.output.renderOutput(dataTable, element);\n",
              "          const docLink = document.createElement('div');\n",
              "          docLink.innerHTML = docLinkHtml;\n",
              "          element.appendChild(docLink);\n",
              "        }\n",
              "      </script>\n",
              "    </div>\n",
              "  </div>\n",
              "  "
            ]
          },
          "metadata": {},
          "execution_count": 5
        }
      ]
    },
    {
      "cell_type": "code",
      "source": [
        "cat_cols = list()\n",
        "for colname in data.columns:\n",
        "    subset = data.loc[:, colname]\n",
        "    if subset.dtype == \"object\" or subset.dtype == \"category\":\n",
        "        uniq_len = len(data.loc[:, colname].unique())\n",
        "        print( colname, uniq_len)\n",
        "        if uniq_len < 10:\n",
        "            cat_cols.append(colname)\n",
        "\n",
        "for catcol in cat_cols:\n",
        "    data.loc[:,catcol] = data.loc[:,catcol].astype(\"category\")\n"
      ],
      "metadata": {
        "colab": {
          "base_uri": "https://localhost:8080/"
        },
        "id": "RQdvHzcgOYSw",
        "outputId": "c27abc59-b8c4-42d0-8059-f2f279436fa7"
      },
      "execution_count": 6,
      "outputs": [
        {
          "output_type": "stream",
          "name": "stdout",
          "text": [
            "dateCrawled 280500\n",
            "name 233531\n",
            "seller 2\n",
            "offerType 2\n",
            "abtest 2\n",
            "vehicleType 9\n",
            "gearbox 3\n",
            "model 252\n",
            "fuelType 8\n",
            "brand 40\n",
            "notRepairedDamage 3\n",
            "dateCreated 114\n",
            "lastSeen 182806\n"
          ]
        }
      ]
    },
    {
      "cell_type": "code",
      "source": [
        "data[\"dateCrawled\"] = pd.to_datetime(data.dateCrawled)\n",
        "data[\"lastSeen\"] = pd.to_datetime(data.lastSeen)\n",
        "data[\"monthOfRegistration\"] = pd.to_numeric(data.monthOfRegistration, downcast=\"integer\")\n",
        "data[\"dateCreated\"] = pd.to_datetime(data.dateCreated)"
      ],
      "metadata": {
        "id": "kdcxb5_OOwZJ"
      },
      "execution_count": 7,
      "outputs": []
    },
    {
      "cell_type": "code",
      "source": [
        "mini = 1900\n",
        "current_year = datetime.date.today().year\n",
        "\n",
        "# Seller contains only 1 type of data and so remove it.\n",
        "data.drop(\"seller\", axis=1, inplace=True)\n",
        "\n",
        "# Offer contains Most of the data as Angebot and 12 data as Gesuch so remove it\n",
        "data.drop(\"offerType\", axis=1, inplace=True)\n",
        "\n",
        "# Both DateCreated and DateCrawled are correlated\n",
        "data.drop(\"dateCrawled\", axis=1, inplace=True)\n",
        "\n",
        "# REDUCE DATA RANGE BY YEAR OF REGISTRATION\n",
        "data = data.loc[(data.yearOfRegistration > mini) & (data.yearOfRegistration < current_year)]\n",
        "\n",
        "# nrOfPicture contains no information since it has only 1 data i.e) 0\n",
        "data.drop(\"nrOfPictures\", axis=1, inplace=True)\n",
        "\n"
      ],
      "metadata": {
        "colab": {
          "base_uri": "https://localhost:8080/"
        },
        "id": "Ob_-iEZ6O0ep",
        "outputId": "baf45b70-8f58-4340-b9be-28c0146da8c9"
      },
      "execution_count": 8,
      "outputs": [
        {
          "output_type": "stream",
          "name": "stderr",
          "text": [
            "/usr/local/lib/python3.7/dist-packages/pandas/core/frame.py:4913: SettingWithCopyWarning: \n",
            "A value is trying to be set on a copy of a slice from a DataFrame\n",
            "\n",
            "See the caveats in the documentation: https://pandas.pydata.org/pandas-docs/stable/user_guide/indexing.html#returning-a-view-versus-a-copy\n",
            "  errors=errors,\n"
          ]
        }
      ]
    },
    {
      "cell_type": "code",
      "source": [
        "nrd_translate = {\n",
        "    \"ja\" : \"Yes\",\n",
        "    \"nein\" : \"no\",\n",
        "}\n",
        "data.notRepairedDamage.replace(nrd_translate, inplace=True)\n",
        "\n",
        "gb_translate = {\n",
        "    \"automatik\": \"automatic\",\n",
        "    \"manuell\": \"manual\"\n",
        "}\n",
        "\n",
        "data.gearbox.replace(gb_translate, inplace=True)\n",
        "\n",
        "fueltype_translate = {\n",
        "    \"benzin\" : \"petrol\",\n",
        "    \"andere\" : \"other\",\n",
        "    \"elektro\" : \"electro\"\n",
        "}\n",
        "data.fuelType.replace(fueltype_translate, inplace=True)"
      ],
      "metadata": {
        "id": "cfxJfzEMO3MK",
        "colab": {
          "base_uri": "https://localhost:8080/"
        },
        "outputId": "d4090e23-315f-4f74-e37d-0363f6b68860"
      },
      "execution_count": 9,
      "outputs": [
        {
          "output_type": "stream",
          "name": "stderr",
          "text": [
            "/usr/local/lib/python3.7/dist-packages/pandas/core/generic.py:6619: SettingWithCopyWarning: \n",
            "A value is trying to be set on a copy of a slice from a DataFrame\n",
            "\n",
            "See the caveats in the documentation: https://pandas.pydata.org/pandas-docs/stable/user_guide/indexing.html#returning-a-view-versus-a-copy\n",
            "  return self._update_inplace(result)\n"
          ]
        }
      ]
    },
    {
      "cell_type": "code",
      "source": [
        "null_vals = data.isna().sum()\n",
        "null_vals"
      ],
      "metadata": {
        "colab": {
          "base_uri": "https://localhost:8080/"
        },
        "id": "KJrAxCBSPXMF",
        "outputId": "60b37773-22e8-4e63-9154-654e884ede8b"
      },
      "execution_count": 10,
      "outputs": [
        {
          "output_type": "execute_result",
          "data": {
            "text/plain": [
              "name                       0\n",
              "price                      0\n",
              "abtest                     0\n",
              "vehicleType            37687\n",
              "yearOfRegistration         0\n",
              "gearbox                20065\n",
              "powerPS                    0\n",
              "model                  20404\n",
              "kilometer                  0\n",
              "monthOfRegistration        0\n",
              "fuelType               33250\n",
              "brand                      0\n",
              "notRepairedDamage      71904\n",
              "dateCreated                0\n",
              "postalCode                 0\n",
              "lastSeen                   0\n",
              "dtype: int64"
            ]
          },
          "metadata": {},
          "execution_count": 10
        }
      ]
    },
    {
      "cell_type": "code",
      "source": [
        "data.reset_index(inplace=True, drop=True)\n",
        "ft_by_model = data.groupby(\"model\").fuelType.value_counts()"
      ],
      "metadata": {
        "id": "6BOV7_gaSKfU"
      },
      "execution_count": 11,
      "outputs": []
    },
    {
      "cell_type": "code",
      "source": [
        "def impute_fueltype(model):\n",
        "    if model is np.nan:\n",
        "        return np.nan\n",
        "    return ft_by_model[model].keys()[0]\n",
        "\n",
        "tempo = data.loc[data.fuelType.isna(), \"model\"].apply(impute_fueltype).rename(\"fuelType\")\n"
      ],
      "metadata": {
        "id": "9gaOyEMAPdM0"
      },
      "execution_count": 12,
      "outputs": []
    },
    {
      "cell_type": "code",
      "source": [
        "ft_col = data.columns.get_loc(\"fuelType\")\n",
        "data.iloc[tempo.index, ft_col] = tempo"
      ],
      "metadata": {
        "id": "g8rHNwqjVyAt"
      },
      "execution_count": 13,
      "outputs": []
    },
    {
      "cell_type": "code",
      "source": [
        "def impute_gearbox(model):\n",
        "    if model is np.nan:\n",
        "        return np.nan\n",
        "    return gearbox_by_model[model].keys()[0]\n"
      ],
      "metadata": {
        "id": "Z_jE3YTzXY0k"
      },
      "execution_count": 14,
      "outputs": []
    },
    {
      "cell_type": "code",
      "source": [
        "gearbox_by_model = data.groupby(\"model\").gearbox.value_counts()"
      ],
      "metadata": {
        "id": "pPE6pIieXr4l"
      },
      "execution_count": 15,
      "outputs": []
    },
    {
      "cell_type": "code",
      "source": [
        "tempo = data.loc[data.gearbox.isna(), \"model\"].apply(impute_gearbox).rename(\"gearbox\")"
      ],
      "metadata": {
        "id": "esMQ7hbSXx5A"
      },
      "execution_count": 16,
      "outputs": []
    },
    {
      "cell_type": "code",
      "source": [
        "gearbox_col = data.columns.get_loc(\"gearbox\")\n",
        "data.iloc[tempo.index, gearbox_col] = tempo"
      ],
      "metadata": {
        "id": "eZigIEXoY-xJ"
      },
      "execution_count": 17,
      "outputs": []
    },
    {
      "cell_type": "code",
      "source": [
        "data.isna().sum()"
      ],
      "metadata": {
        "colab": {
          "base_uri": "https://localhost:8080/"
        },
        "id": "jriFOxXvZK5w",
        "outputId": "df7aae33-166a-4ff8-d270-d1b0419ce853"
      },
      "execution_count": 18,
      "outputs": [
        {
          "output_type": "execute_result",
          "data": {
            "text/plain": [
              "name                       0\n",
              "price                      0\n",
              "abtest                     0\n",
              "vehicleType            37687\n",
              "yearOfRegistration         0\n",
              "gearbox                 4161\n",
              "powerPS                    0\n",
              "model                  20404\n",
              "kilometer                  0\n",
              "monthOfRegistration        0\n",
              "fuelType                7228\n",
              "brand                      0\n",
              "notRepairedDamage      71904\n",
              "dateCreated                0\n",
              "postalCode                 0\n",
              "lastSeen                   0\n",
              "dtype: int64"
            ]
          },
          "metadata": {},
          "execution_count": 18
        }
      ]
    },
    {
      "cell_type": "code",
      "source": [
        "vtype_by_model_brand = data.groupby([\"model\", \"brand\"]).vehicleType.value_counts()"
      ],
      "metadata": {
        "id": "T7vzidSRag2J"
      },
      "execution_count": 19,
      "outputs": []
    },
    {
      "cell_type": "code",
      "source": [
        "data.groupby([\"model\", \"brand\"]).vehicleType.value_counts()"
      ],
      "metadata": {
        "colab": {
          "base_uri": "https://localhost:8080/"
        },
        "id": "Fr93NXyIbode",
        "outputId": "993b4acd-96ad-4ef8-c9c8-834a7e97fbf6"
      },
      "execution_count": 20,
      "outputs": [
        {
          "output_type": "execute_result",
          "data": {
            "text/plain": [
              "model   brand            \n",
              "100     audi   limousine     278\n",
              "               kombi         109\n",
              "               coupe           2\n",
              "               cabrio          1\n",
              "               andere          0\n",
              "                            ... \n",
              "zafira  opel   limousine      22\n",
              "               kleinwagen     11\n",
              "               suv             7\n",
              "               cabrio          1\n",
              "               coupe           1\n",
              "Name: vehicleType, Length: 2384, dtype: int64"
            ]
          },
          "metadata": {},
          "execution_count": 20
        }
      ]
    },
    {
      "cell_type": "code",
      "source": [],
      "metadata": {
        "id": "XBYFHyh8cHsc"
      },
      "execution_count": 20,
      "outputs": []
    },
    {
      "cell_type": "code",
      "source": [
        "def impute_vehicletype(model):\n",
        "    if model.model is np.nan or model.brand is np.nan:\n",
        "        return np.nan\n",
        "\n",
        "    return vtype_by_model_brand[model.model, model.brand].keys()[0]"
      ],
      "metadata": {
        "id": "d0sKWwa4bmUp"
      },
      "execution_count": 21,
      "outputs": []
    },
    {
      "cell_type": "code",
      "source": [
        "vtype_by_model_brand[\"golf\", \"volkswagen\"]"
      ],
      "metadata": {
        "colab": {
          "base_uri": "https://localhost:8080/"
        },
        "id": "LD-i2gaiZ1EZ",
        "outputId": "4ca0d2c5-0352-43c2-9f0c-0eabeb4dcf42"
      },
      "execution_count": 22,
      "outputs": [
        {
          "output_type": "execute_result",
          "data": {
            "text/plain": [
              "limousine     15337\n",
              "kleinwagen     3929\n",
              "kombi          3257\n",
              "cabrio         2024\n",
              "bus             795\n",
              "coupe           435\n",
              "andere          192\n",
              "suv              25\n",
              "Name: vehicleType, dtype: int64"
            ]
          },
          "metadata": {},
          "execution_count": 22
        }
      ]
    },
    {
      "cell_type": "code",
      "source": [
        "tempo= data.loc[data.vehicleType.isna(), [\"model\", \"brand\"]].apply(impute_vehicletype, axis=1)"
      ],
      "metadata": {
        "id": "aKkPwHqpcCTm"
      },
      "execution_count": 23,
      "outputs": []
    },
    {
      "cell_type": "code",
      "source": [
        "vtype_col = data.columns.get_loc(\"vehicleType\")\n",
        "data.iloc[tempo.index, vtype_col] = tempo"
      ],
      "metadata": {
        "id": "b1Ssb6Cgcf5h"
      },
      "execution_count": 24,
      "outputs": []
    },
    {
      "cell_type": "code",
      "source": [
        "data.isna().sum()"
      ],
      "metadata": {
        "colab": {
          "base_uri": "https://localhost:8080/"
        },
        "id": "YkcucYubc-EQ",
        "outputId": "2483cda6-fa22-4063-f3ad-5a69cb46220e"
      },
      "execution_count": 25,
      "outputs": [
        {
          "output_type": "execute_result",
          "data": {
            "text/plain": [
              "name                       0\n",
              "price                      0\n",
              "abtest                     0\n",
              "vehicleType             6837\n",
              "yearOfRegistration         0\n",
              "gearbox                 4161\n",
              "powerPS                    0\n",
              "model                  20404\n",
              "kilometer                  0\n",
              "monthOfRegistration        0\n",
              "fuelType                7228\n",
              "brand                      0\n",
              "notRepairedDamage      71904\n",
              "dateCreated                0\n",
              "postalCode                 0\n",
              "lastSeen                   0\n",
              "dtype: int64"
            ]
          },
          "metadata": {},
          "execution_count": 25
        }
      ]
    },
    {
      "cell_type": "code",
      "source": [
        "data[\"model\"].fillna(data.model.mode(), inplace=True)"
      ],
      "metadata": {
        "id": "-kr-UImqQrBS"
      },
      "execution_count": 26,
      "outputs": []
    },
    {
      "cell_type": "code",
      "source": [
        "data.isna().sum()"
      ],
      "metadata": {
        "id": "sO7v3AsGfOe9",
        "colab": {
          "base_uri": "https://localhost:8080/"
        },
        "outputId": "fd0ee4f4-bd68-4e4c-dc25-c449a2fac6c8"
      },
      "execution_count": 27,
      "outputs": [
        {
          "output_type": "execute_result",
          "data": {
            "text/plain": [
              "name                       0\n",
              "price                      0\n",
              "abtest                     0\n",
              "vehicleType             6837\n",
              "yearOfRegistration         0\n",
              "gearbox                 4161\n",
              "powerPS                    0\n",
              "model                  20404\n",
              "kilometer                  0\n",
              "monthOfRegistration        0\n",
              "fuelType                7228\n",
              "brand                      0\n",
              "notRepairedDamage      71904\n",
              "dateCreated                0\n",
              "postalCode                 0\n",
              "lastSeen                   0\n",
              "dtype: int64"
            ]
          },
          "metadata": {},
          "execution_count": 27
        }
      ]
    },
    {
      "cell_type": "code",
      "source": [
        "data.notRepairedDamage.value_counts()"
      ],
      "metadata": {
        "colab": {
          "base_uri": "https://localhost:8080/"
        },
        "id": "hYZntVUFSAzu",
        "outputId": "c212d8df-bdf9-49f8-e1c4-9c9e55f28d88"
      },
      "execution_count": 28,
      "outputs": [
        {
          "output_type": "execute_result",
          "data": {
            "text/plain": [
              "no     263165\n",
              "Yes     36277\n",
              "Name: notRepairedDamage, dtype: int64"
            ]
          },
          "metadata": {},
          "execution_count": 28
        }
      ]
    },
    {
      "cell_type": "code",
      "source": [
        "data.gearbox.fillna(data.gearbox.mode(), inplace=True)"
      ],
      "metadata": {
        "id": "X3WsLrn-SrFU"
      },
      "execution_count": 29,
      "outputs": []
    },
    {
      "cell_type": "code",
      "source": [
        "data.isna().sum()"
      ],
      "metadata": {
        "colab": {
          "base_uri": "https://localhost:8080/"
        },
        "id": "JM30GDWPT4ia",
        "outputId": "9ceba726-b207-4f85-f963-22664bc0f260"
      },
      "execution_count": 30,
      "outputs": [
        {
          "output_type": "execute_result",
          "data": {
            "text/plain": [
              "name                       0\n",
              "price                      0\n",
              "abtest                     0\n",
              "vehicleType             6837\n",
              "yearOfRegistration         0\n",
              "gearbox                 4161\n",
              "powerPS                    0\n",
              "model                  20404\n",
              "kilometer                  0\n",
              "monthOfRegistration        0\n",
              "fuelType                7228\n",
              "brand                      0\n",
              "notRepairedDamage      71904\n",
              "dateCreated                0\n",
              "postalCode                 0\n",
              "lastSeen                   0\n",
              "dtype: int64"
            ]
          },
          "metadata": {},
          "execution_count": 30
        }
      ]
    },
    {
      "cell_type": "code",
      "source": [
        "data[\"fuelType\"] = data.fuelType.fillna(data.fuelType.mode())"
      ],
      "metadata": {
        "id": "kh-EqOCwXeEl"
      },
      "execution_count": 31,
      "outputs": []
    },
    {
      "cell_type": "code",
      "source": [
        "data[\"vehicleType\"] = data.vehicleType.astype(\"str\").fillna(data.vehicleType.mode()).astype(\"category\")"
      ],
      "metadata": {
        "id": "SMJuLI3WWCbm"
      },
      "execution_count": 32,
      "outputs": []
    },
    {
      "cell_type": "code",
      "source": [
        "data[\"not_filled_repaired\"] = data.notRepairedDamage.apply(lambda x: 1 if type(x) == float else 0)"
      ],
      "metadata": {
        "id": "qH1Ru60pYsVp"
      },
      "execution_count": 33,
      "outputs": []
    },
    {
      "cell_type": "code",
      "source": [
        "data.notRepairedDamage.fillna(data.notRepairedDamage, inplace=True)"
      ],
      "metadata": {
        "id": "VfblHFmrdSVh"
      },
      "execution_count": 34,
      "outputs": []
    },
    {
      "cell_type": "code",
      "source": [
        "data.isna().sum()"
      ],
      "metadata": {
        "colab": {
          "base_uri": "https://localhost:8080/"
        },
        "id": "6WpnlsE5dtwY",
        "outputId": "2d075ae3-8b4a-4da4-95a0-73b025e89b8c"
      },
      "execution_count": 35,
      "outputs": [
        {
          "output_type": "execute_result",
          "data": {
            "text/plain": [
              "name                       0\n",
              "price                      0\n",
              "abtest                     0\n",
              "vehicleType                0\n",
              "yearOfRegistration         0\n",
              "gearbox                 4161\n",
              "powerPS                    0\n",
              "model                  20404\n",
              "kilometer                  0\n",
              "monthOfRegistration        0\n",
              "fuelType                7228\n",
              "brand                      0\n",
              "notRepairedDamage      71904\n",
              "dateCreated                0\n",
              "postalCode                 0\n",
              "lastSeen                   0\n",
              "not_filled_repaired        0\n",
              "dtype: int64"
            ]
          },
          "metadata": {},
          "execution_count": 35
        }
      ]
    },
    {
      "cell_type": "code",
      "source": [
        "data.head()"
      ],
      "metadata": {
        "id": "fJnpKF6HeTpP",
        "colab": {
          "base_uri": "https://localhost:8080/",
          "height": 444
        },
        "outputId": "6c948472-f4b4-4202-efbc-3882fdea991a"
      },
      "execution_count": 36,
      "outputs": [
        {
          "output_type": "execute_result",
          "data": {
            "text/plain": [
              "                             name  price abtest vehicleType  \\\n",
              "0                      Golf_3_1.6    480   test   limousine   \n",
              "1            A5_Sportback_2.7_Tdi  18300   test       coupe   \n",
              "2  Jeep_Grand_Cherokee_\"Overland\"   9800   test         suv   \n",
              "3              GOLF_4_1_4__3TÜRER   1500   test  kleinwagen   \n",
              "4  Skoda_Fabia_1.4_TDI_PD_Classic   3600   test  kleinwagen   \n",
              "\n",
              "   yearOfRegistration    gearbox  powerPS  model  kilometer  \\\n",
              "0                1993     manual        0   golf     150000   \n",
              "1                2011     manual      190    NaN     125000   \n",
              "2                2004  automatic      163  grand     125000   \n",
              "3                2001     manual       75   golf     150000   \n",
              "4                2008     manual       69  fabia      90000   \n",
              "\n",
              "   monthOfRegistration fuelType       brand notRepairedDamage dateCreated  \\\n",
              "0                    0   petrol  volkswagen               NaN  2016-03-24   \n",
              "1                    5   diesel        audi               Yes  2016-03-24   \n",
              "2                    8   diesel        jeep               NaN  2016-03-14   \n",
              "3                    6   petrol  volkswagen                no  2016-03-17   \n",
              "4                    7   diesel       skoda                no  2016-03-31   \n",
              "\n",
              "   postalCode            lastSeen  not_filled_repaired  \n",
              "0       70435 2016-04-07 03:16:57                    1  \n",
              "1       66954 2016-04-07 01:46:50                    0  \n",
              "2       90480 2016-04-05 12:47:46                    1  \n",
              "3       91074 2016-03-17 17:40:17                    0  \n",
              "4       60437 2016-04-06 10:17:21                    0  "
            ],
            "text/html": [
              "\n",
              "  <div id=\"df-ce033cdf-f42d-426d-84bb-d88a42cda6a2\">\n",
              "    <div class=\"colab-df-container\">\n",
              "      <div>\n",
              "<style scoped>\n",
              "    .dataframe tbody tr th:only-of-type {\n",
              "        vertical-align: middle;\n",
              "    }\n",
              "\n",
              "    .dataframe tbody tr th {\n",
              "        vertical-align: top;\n",
              "    }\n",
              "\n",
              "    .dataframe thead th {\n",
              "        text-align: right;\n",
              "    }\n",
              "</style>\n",
              "<table border=\"1\" class=\"dataframe\">\n",
              "  <thead>\n",
              "    <tr style=\"text-align: right;\">\n",
              "      <th></th>\n",
              "      <th>name</th>\n",
              "      <th>price</th>\n",
              "      <th>abtest</th>\n",
              "      <th>vehicleType</th>\n",
              "      <th>yearOfRegistration</th>\n",
              "      <th>gearbox</th>\n",
              "      <th>powerPS</th>\n",
              "      <th>model</th>\n",
              "      <th>kilometer</th>\n",
              "      <th>monthOfRegistration</th>\n",
              "      <th>fuelType</th>\n",
              "      <th>brand</th>\n",
              "      <th>notRepairedDamage</th>\n",
              "      <th>dateCreated</th>\n",
              "      <th>postalCode</th>\n",
              "      <th>lastSeen</th>\n",
              "      <th>not_filled_repaired</th>\n",
              "    </tr>\n",
              "  </thead>\n",
              "  <tbody>\n",
              "    <tr>\n",
              "      <th>0</th>\n",
              "      <td>Golf_3_1.6</td>\n",
              "      <td>480</td>\n",
              "      <td>test</td>\n",
              "      <td>limousine</td>\n",
              "      <td>1993</td>\n",
              "      <td>manual</td>\n",
              "      <td>0</td>\n",
              "      <td>golf</td>\n",
              "      <td>150000</td>\n",
              "      <td>0</td>\n",
              "      <td>petrol</td>\n",
              "      <td>volkswagen</td>\n",
              "      <td>NaN</td>\n",
              "      <td>2016-03-24</td>\n",
              "      <td>70435</td>\n",
              "      <td>2016-04-07 03:16:57</td>\n",
              "      <td>1</td>\n",
              "    </tr>\n",
              "    <tr>\n",
              "      <th>1</th>\n",
              "      <td>A5_Sportback_2.7_Tdi</td>\n",
              "      <td>18300</td>\n",
              "      <td>test</td>\n",
              "      <td>coupe</td>\n",
              "      <td>2011</td>\n",
              "      <td>manual</td>\n",
              "      <td>190</td>\n",
              "      <td>NaN</td>\n",
              "      <td>125000</td>\n",
              "      <td>5</td>\n",
              "      <td>diesel</td>\n",
              "      <td>audi</td>\n",
              "      <td>Yes</td>\n",
              "      <td>2016-03-24</td>\n",
              "      <td>66954</td>\n",
              "      <td>2016-04-07 01:46:50</td>\n",
              "      <td>0</td>\n",
              "    </tr>\n",
              "    <tr>\n",
              "      <th>2</th>\n",
              "      <td>Jeep_Grand_Cherokee_\"Overland\"</td>\n",
              "      <td>9800</td>\n",
              "      <td>test</td>\n",
              "      <td>suv</td>\n",
              "      <td>2004</td>\n",
              "      <td>automatic</td>\n",
              "      <td>163</td>\n",
              "      <td>grand</td>\n",
              "      <td>125000</td>\n",
              "      <td>8</td>\n",
              "      <td>diesel</td>\n",
              "      <td>jeep</td>\n",
              "      <td>NaN</td>\n",
              "      <td>2016-03-14</td>\n",
              "      <td>90480</td>\n",
              "      <td>2016-04-05 12:47:46</td>\n",
              "      <td>1</td>\n",
              "    </tr>\n",
              "    <tr>\n",
              "      <th>3</th>\n",
              "      <td>GOLF_4_1_4__3TÜRER</td>\n",
              "      <td>1500</td>\n",
              "      <td>test</td>\n",
              "      <td>kleinwagen</td>\n",
              "      <td>2001</td>\n",
              "      <td>manual</td>\n",
              "      <td>75</td>\n",
              "      <td>golf</td>\n",
              "      <td>150000</td>\n",
              "      <td>6</td>\n",
              "      <td>petrol</td>\n",
              "      <td>volkswagen</td>\n",
              "      <td>no</td>\n",
              "      <td>2016-03-17</td>\n",
              "      <td>91074</td>\n",
              "      <td>2016-03-17 17:40:17</td>\n",
              "      <td>0</td>\n",
              "    </tr>\n",
              "    <tr>\n",
              "      <th>4</th>\n",
              "      <td>Skoda_Fabia_1.4_TDI_PD_Classic</td>\n",
              "      <td>3600</td>\n",
              "      <td>test</td>\n",
              "      <td>kleinwagen</td>\n",
              "      <td>2008</td>\n",
              "      <td>manual</td>\n",
              "      <td>69</td>\n",
              "      <td>fabia</td>\n",
              "      <td>90000</td>\n",
              "      <td>7</td>\n",
              "      <td>diesel</td>\n",
              "      <td>skoda</td>\n",
              "      <td>no</td>\n",
              "      <td>2016-03-31</td>\n",
              "      <td>60437</td>\n",
              "      <td>2016-04-06 10:17:21</td>\n",
              "      <td>0</td>\n",
              "    </tr>\n",
              "  </tbody>\n",
              "</table>\n",
              "</div>\n",
              "      <button class=\"colab-df-convert\" onclick=\"convertToInteractive('df-ce033cdf-f42d-426d-84bb-d88a42cda6a2')\"\n",
              "              title=\"Convert this dataframe to an interactive table.\"\n",
              "              style=\"display:none;\">\n",
              "        \n",
              "  <svg xmlns=\"http://www.w3.org/2000/svg\" height=\"24px\"viewBox=\"0 0 24 24\"\n",
              "       width=\"24px\">\n",
              "    <path d=\"M0 0h24v24H0V0z\" fill=\"none\"/>\n",
              "    <path d=\"M18.56 5.44l.94 2.06.94-2.06 2.06-.94-2.06-.94-.94-2.06-.94 2.06-2.06.94zm-11 1L8.5 8.5l.94-2.06 2.06-.94-2.06-.94L8.5 2.5l-.94 2.06-2.06.94zm10 10l.94 2.06.94-2.06 2.06-.94-2.06-.94-.94-2.06-.94 2.06-2.06.94z\"/><path d=\"M17.41 7.96l-1.37-1.37c-.4-.4-.92-.59-1.43-.59-.52 0-1.04.2-1.43.59L10.3 9.45l-7.72 7.72c-.78.78-.78 2.05 0 2.83L4 21.41c.39.39.9.59 1.41.59.51 0 1.02-.2 1.41-.59l7.78-7.78 2.81-2.81c.8-.78.8-2.07 0-2.86zM5.41 20L4 18.59l7.72-7.72 1.47 1.35L5.41 20z\"/>\n",
              "  </svg>\n",
              "      </button>\n",
              "      \n",
              "  <style>\n",
              "    .colab-df-container {\n",
              "      display:flex;\n",
              "      flex-wrap:wrap;\n",
              "      gap: 12px;\n",
              "    }\n",
              "\n",
              "    .colab-df-convert {\n",
              "      background-color: #E8F0FE;\n",
              "      border: none;\n",
              "      border-radius: 50%;\n",
              "      cursor: pointer;\n",
              "      display: none;\n",
              "      fill: #1967D2;\n",
              "      height: 32px;\n",
              "      padding: 0 0 0 0;\n",
              "      width: 32px;\n",
              "    }\n",
              "\n",
              "    .colab-df-convert:hover {\n",
              "      background-color: #E2EBFA;\n",
              "      box-shadow: 0px 1px 2px rgba(60, 64, 67, 0.3), 0px 1px 3px 1px rgba(60, 64, 67, 0.15);\n",
              "      fill: #174EA6;\n",
              "    }\n",
              "\n",
              "    [theme=dark] .colab-df-convert {\n",
              "      background-color: #3B4455;\n",
              "      fill: #D2E3FC;\n",
              "    }\n",
              "\n",
              "    [theme=dark] .colab-df-convert:hover {\n",
              "      background-color: #434B5C;\n",
              "      box-shadow: 0px 1px 3px 1px rgba(0, 0, 0, 0.15);\n",
              "      filter: drop-shadow(0px 1px 2px rgba(0, 0, 0, 0.3));\n",
              "      fill: #FFFFFF;\n",
              "    }\n",
              "  </style>\n",
              "\n",
              "      <script>\n",
              "        const buttonEl =\n",
              "          document.querySelector('#df-ce033cdf-f42d-426d-84bb-d88a42cda6a2 button.colab-df-convert');\n",
              "        buttonEl.style.display =\n",
              "          google.colab.kernel.accessAllowed ? 'block' : 'none';\n",
              "\n",
              "        async function convertToInteractive(key) {\n",
              "          const element = document.querySelector('#df-ce033cdf-f42d-426d-84bb-d88a42cda6a2');\n",
              "          const dataTable =\n",
              "            await google.colab.kernel.invokeFunction('convertToInteractive',\n",
              "                                                     [key], {});\n",
              "          if (!dataTable) return;\n",
              "\n",
              "          const docLinkHtml = 'Like what you see? Visit the ' +\n",
              "            '<a target=\"_blank\" href=https://colab.research.google.com/notebooks/data_table.ipynb>data table notebook</a>'\n",
              "            + ' to learn more about interactive tables.';\n",
              "          element.innerHTML = '';\n",
              "          dataTable['output_type'] = 'display_data';\n",
              "          await google.colab.output.renderOutput(dataTable, element);\n",
              "          const docLink = document.createElement('div');\n",
              "          docLink.innerHTML = docLinkHtml;\n",
              "          element.appendChild(docLink);\n",
              "        }\n",
              "      </script>\n",
              "    </div>\n",
              "  </div>\n",
              "  "
            ]
          },
          "metadata": {},
          "execution_count": 36
        }
      ]
    },
    {
      "cell_type": "code",
      "source": [
        "data.isna().sum()"
      ],
      "metadata": {
        "id": "d3YoQcdJI274",
        "colab": {
          "base_uri": "https://localhost:8080/"
        },
        "outputId": "79b053ba-0170-4b3b-e1d9-e267337ed97f"
      },
      "execution_count": 37,
      "outputs": [
        {
          "output_type": "execute_result",
          "data": {
            "text/plain": [
              "name                       0\n",
              "price                      0\n",
              "abtest                     0\n",
              "vehicleType                0\n",
              "yearOfRegistration         0\n",
              "gearbox                 4161\n",
              "powerPS                    0\n",
              "model                  20404\n",
              "kilometer                  0\n",
              "monthOfRegistration        0\n",
              "fuelType                7228\n",
              "brand                      0\n",
              "notRepairedDamage      71904\n",
              "dateCreated                0\n",
              "postalCode                 0\n",
              "lastSeen                   0\n",
              "not_filled_repaired        0\n",
              "dtype: int64"
            ]
          },
          "metadata": {},
          "execution_count": 37
        }
      ]
    },
    {
      "cell_type": "code",
      "source": [
        "from sklearn.model_selection import train_test_split \n",
        "\n",
        "target = \"price\"\n",
        "X = data.drop(target, axis=1)\n",
        "y = data.loc[:, target]\n",
        "X_train, X_test, y_train, y_test = train_test_split(X, y, test_size=0.2)"
      ],
      "metadata": {
        "id": "rT_5mgdhI58f"
      },
      "execution_count": 41,
      "outputs": []
    },
    {
      "cell_type": "code",
      "source": [
        "list(map(lambda x:x.shape, [X_train, X_test, y_train, y_test]))"
      ],
      "metadata": {
        "colab": {
          "base_uri": "https://localhost:8080/"
        },
        "id": "AGJmmXg9nyb4",
        "outputId": "3b3a40fd-faef-48c9-c290-58224fc94b6d"
      },
      "execution_count": 43,
      "outputs": [
        {
          "output_type": "execute_result",
          "data": {
            "text/plain": [
              "[(297076, 16), (74270, 16), (297076,), (74270,)]"
            ]
          },
          "metadata": {},
          "execution_count": 43
        }
      ]
    },
    {
      "cell_type": "code",
      "source": [],
      "metadata": {
        "id": "tj9eOAKrn3fR"
      },
      "execution_count": null,
      "outputs": []
    }
  ]
}