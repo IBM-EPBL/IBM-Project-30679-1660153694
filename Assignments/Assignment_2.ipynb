{
 "cells": [
  {
   "cell_type": "code",
   "execution_count": null,
   "metadata": {},
   "outputs": [],
   "source": []
  }
 ],
 "metadata": {
  "kernelspec": {
   "display_name": "Python 3.10.6 64-bit",
   "language": "python",
   "name": "python3"
  },
  "language_info": {
   "name": "python",
   "version": "3.10.6"
  },
  "orig_nbformat": 4,
  "vscode": {
   "interpreter": {
    "hash": "c2ad192c25093adb1e761c16aeee0685f7cb60feebadc6be2c93f4e47832c3ed"
   }
  }
 },
 "nbformat": 4,
 "nbformat_minor": 2
}
