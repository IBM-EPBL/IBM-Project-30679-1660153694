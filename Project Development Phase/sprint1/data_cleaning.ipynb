{
 "cells": [
  {
   "cell_type": "code",
   "execution_count": null,
   "metadata": {},
   "outputs": [],
   "source": [
    "import datetime\n",
    "\n",
    "import numpy as np\n",
    "import pandas as pd\n",
    "from sklearn.compose import ColumnTransformer\n",
    "from sklearn.ensemble import RandomForestRegressor\n",
    "from sklearn.impute import SimpleImputer\n",
    "from sklearn.model_selection import train_test_split\n",
    "from sklearn.pipeline import Pipeline\n",
    "from sklearn.preprocessing import OneHotEncoder, StandardScaler, OrdinalEncoder\n",
    "from xgboost import XGBRegressor\n"
   ]
  },
  {
   "cell_type": "code",
   "execution_count": null,
   "metadata": {},
   "outputs": [],
   "source": [
    "import shutil"
   ]
  },
  {
   "cell_type": "code",
   "execution_count": null,
   "metadata": {},
   "outputs": [],
   "source": [
    "shutil.unpack_archive(\n",
    "    \"/content/drive/MyDrive/Data Car Resale Value Prediction (3).zip\", \n",
    "    extract_dir=\".\"\n",
    "    )"
   ]
  },
  {
   "cell_type": "code",
   "execution_count": null,
   "metadata": {},
   "outputs": [],
   "source": [
    "data = pd.read_csv(\n",
    "    \"Data/autos.csv\", encoding=\"Latin\"\n",
    ")"
   ]
  },
  {
   "cell_type": "code",
   "execution_count": null,
   "metadata": {},
   "outputs": [],
   "source": [
    "def infer_columns(X: pd.DataFrame):\n",
    "    cat_cols = list()\n",
    "    for colname in X.columns:\n",
    "        subset = X.loc[:, colname]\n",
    "        if subset.dtype == \"object\" or subset.dtype == \"category\":\n",
    "            uniq_len = len(X.loc[:, colname].unique())\n",
    "            print(colname, uniq_len)\n",
    "            if uniq_len < 10:\n",
    "                cat_cols.append(colname)\n",
    "\n",
    "    for catcol in cat_cols:\n",
    "        X.loc[:, catcol] = X.loc[:, catcol].astype(\"category\")\n",
    "\n",
    "\n",
    "infer_columns(data)\n",
    "\n",
    "\n",
    "def convert_appropriate_dtypes(X:pd.DataFrame):\n",
    "    X[\"dateCrawled\"] = pd.to_datetime(X.dateCrawled)\n",
    "    X[\"lastSeen\"] = pd.to_datetime(X.lastSeen)\n",
    "    X[\"monthOfRegistration\"] = pd.to_numeric(X.monthOfRegistration, downcast=\"integer\")\n",
    "    X[\"dateCreated\"] = pd.to_datetime(X.dateCreated)\n",
    "\n",
    "\n",
    "convert_appropriate_dtypes(data)\n",
    "\n",
    "\n",
    "def remove_redundant_data(X: pd.DataFrame):\n",
    "    # Seller contains only 1 type of data and so remove it.\n",
    "    X.drop(\"seller\", axis=1, inplace=True)\n",
    "\n",
    "    # Offer contains Most of the data as Angebot and 12 data as Gesuch so remove it\n",
    "    X.drop(\"offerType\", axis=1, inplace=True)\n",
    "\n",
    "    # Both DateCreated and DateCrawled are correlated\n",
    "    X.drop(\"dateCrawled\", axis=1, inplace=True)\n",
    "\n",
    "    # nrOfPicture contains no information since it has only 1 data i.e) 0\n",
    "    X.drop(\"nrOfPictures\", axis=1, inplace=True)\n",
    "\n",
    "\n",
    "remove_redundant_data(data)\n",
    "\n",
    "def filter_registration_year(X: pd.DataFrame):\n",
    "    # REDUCE DATA RANGE BY YEAR OF REGISTRATION\n",
    "    mini = 1900\n",
    "    current_year = datetime.date.today().year\n",
    "\n",
    "    X = X.loc[(X.yearOfRegistration > mini) & (X.yearOfRegistration < current_year)]\n",
    "\n",
    "    return X\n",
    "\n",
    "data = filter_registration_year(data)\n",
    "\n",
    "\n",
    "def translate(X: pd.DataFrame):\n",
    "    nrd_translate = {\n",
    "        \"ja\": \"Yes\",\n",
    "        \"nein\": \"no\",\n",
    "    }\n",
    "\n",
    "    X.notRepairedDamage.replace(nrd_translate, inplace=True)\n",
    "\n",
    "    gb_translate = {\n",
    "        \"automatik\": \"automatic\",\n",
    "        \"manuell\": \"manual\"\n",
    "    }\n",
    "\n",
    "    X.gearbox.replace(gb_translate, inplace=True)\n",
    "\n",
    "    fueltype_translate = {\n",
    "        \"benzin\": \"petrol\",\n",
    "        \"andere\": \"other\",\n",
    "        \"elektro\": \"electro\"\n",
    "    }\n",
    "\n",
    "    X.fuelType.replace(fueltype_translate, inplace=True)\n",
    "\n",
    "    \n",
    "translate(data)"
   ]
  },
  {
   "cell_type": "code",
   "execution_count": null,
   "metadata": {},
   "outputs": [],
   "source": [
    "data[\"gearbox\"] = data.gearbox.astype(\"category\")\n",
    "data[\"fuelType\"] = data.gearbox.astype(\"category\")\n",
    "data[\"notRepairedDamage\"] = data.notRepairedDamage.astype(\"category\")"
   ]
  }
 ],
 "metadata": {
  "language_info": {
   "name": "python"
  },
  "orig_nbformat": 4
 },
 "nbformat": 4,
 "nbformat_minor": 2
}
